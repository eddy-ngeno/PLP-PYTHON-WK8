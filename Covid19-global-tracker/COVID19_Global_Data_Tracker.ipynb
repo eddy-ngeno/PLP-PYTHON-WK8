{
 "cells": [
  {
   "cell_type": "markdown",
   "id": "c3cb3e13",
   "metadata": {},
   "source": [
    "# COVID-19 Global Data Tracker\n",
    "\n",
    "This project tracks COVID-19 cases, deaths, and vaccinations using real-world data from [Our World in Data](https://github.com/owid/covid-19-data). It includes data cleaning, analysis, and visualizations for selected countries."
   ]
  },
  {
   "cell_type": "markdown",
   "id": "bb5af323",
   "metadata": {},
   "source": [
    "## Step 1: Data Collection\n",
    "Download the CSV from the [OWID GitHub Repository](https://github.com/owid/covid-19-data/tree/master/public/data). Save it as `owid-covid-data.csv` in a folder named `data/`."
   ]
  },
  {
   "cell_type": "markdown",
   "id": "bcc2caf9",
   "metadata": {},
   "source": [
    "## Step 2: Data Loading & Exploration"
   ]
  },
  {
   "cell_type": "code",
   "execution_count": null,
   "id": "ed6c39e8",
   "metadata": {},
   "outputs": [],
   "source": [
    "import pandas as pd\n",
    "\n",
    "# Load the dataset\n",
    "df = pd.read_csv(\"data/owid-covid-data.csv\")\n",
    "\n",
    "# View column names\n",
    "print(df.columns)\n",
    "\n",
    "# Preview data\n",
    "df.head()"
   ]
  },
  {
   "cell_type": "code",
   "execution_count": null,
   "id": "bc02638b",
   "metadata": {},
   "outputs": [],
   "source": [
    "df.isnull().sum()"
   ]
  },
  {
   "cell_type": "markdown",
   "id": "06ce5137",
   "metadata": {},
   "source": [
    "## Step 3: Data Cleaning"
   ]
  },
  {
   "cell_type": "code",
   "execution_count": null,
   "id": "aec5386b",
   "metadata": {},
   "outputs": [],
   "source": [
    "# Convert 'date' to datetime\n",
    "df['date'] = pd.to_datetime(df['date'])\n",
    "\n",
    "# Filter selected countries\n",
    "countries = ['Kenya', 'United States', 'India']\n",
    "df = df[df['location'].isin(countries)]\n",
    "\n",
    "# Drop rows with missing date or total_cases\n",
    "df = df.dropna(subset=['date', 'total_cases'])\n",
    "\n",
    "# Fill remaining missing values with 0\n",
    "df.fillna(0, inplace=True)"
   ]
  },
  {
   "cell_type": "markdown",
   "id": "a5a8e3b4",
   "metadata": {},
   "source": [
    "## Step 4: Exploratory Data Analysis (EDA)\n",
    "### Total COVID-19 Cases Over Time"
   ]
  },
  {
   "cell_type": "code",
   "execution_count": null,
   "id": "17938815",
   "metadata": {},
   "outputs": [],
   "source": [
    "import matplotlib.pyplot as plt\n",
    "\n",
    "plt.figure(figsize=(10, 6))\n",
    "for country in countries:\n",
    "    country_data = df[df['location'] == country]\n",
    "    plt.plot(country_data['date'], country_data['total_cases'], label=country)\n",
    "\n",
    "plt.title(\"Total COVID-19 Cases Over Time\")\n",
    "plt.xlabel(\"Date\")\n",
    "plt.ylabel(\"Total Cases\")\n",
    "plt.legend()\n",
    "plt.grid(True)\n",
    "plt.show()"
   ]
  },
  {
   "cell_type": "markdown",
   "id": "2415ddc8",
   "metadata": {},
   "source": [
    "### Total COVID-19 Deaths Over Time"
   ]
  },
  {
   "cell_type": "code",
   "execution_count": null,
   "id": "91d78758",
   "metadata": {},
   "outputs": [],
   "source": [
    "plt.figure(figsize=(10, 6))\n",
    "for country in countries:\n",
    "    country_data = df[df['location'] == country]\n",
    "    plt.plot(country_data['date'], country_data['total_deaths'], label=country)\n",
    "\n",
    "plt.title(\"Total COVID-19 Deaths Over Time\")\n",
    "plt.xlabel(\"Date\")\n",
    "plt.ylabel(\"Total Deaths\")\n",
    "plt.legend()\n",
    "plt.grid(True)\n",
    "plt.show()"
   ]
  },
  {
   "cell_type": "markdown",
   "id": "f6d042a2",
   "metadata": {},
   "source": [
    "## Step 5: Visualizing Vaccination Progress"
   ]
  },
  {
   "cell_type": "code",
   "execution_count": null,
   "id": "04679657",
   "metadata": {},
   "outputs": [],
   "source": [
    "plt.figure(figsize=(10, 6))\n",
    "for country in countries:\n",
    "    country_data = df[df['location'] == country]\n",
    "    plt.plot(country_data['date'], country_data['total_vaccinations'], label=country)\n",
    "\n",
    "plt.title(\"Vaccination Progress Over Time\")\n",
    "plt.xlabel(\"Date\")\n",
    "plt.ylabel(\"Total Vaccinations\")\n",
    "plt.legend()\n",
    "plt.grid(True)\n",
    "plt.show()"
   ]
  },
  {
   "cell_type": "markdown",
   "id": "eac019ad",
   "metadata": {},
   "source": [
    "## Step 6: (Optional) Choropleth Map"
   ]
  },
  {
   "cell_type": "code",
   "execution_count": null,
   "id": "6b20f2d7",
   "metadata": {},
   "outputs": [],
   "source": [
    "import plotly.express as px\n",
    "\n",
    "latest_data = df[df['date'] == df['date'].max()]\n",
    "fig = px.choropleth(latest_data,\n",
    "                    locations=\"iso_code\",\n",
    "                    color=\"total_cases\",\n",
    "                    hover_name=\"location\",\n",
    "                    color_continuous_scale=\"Reds\",\n",
    "                    title=\"Total COVID-19 Cases (Latest Date)\")\n",
    "fig.show()"
   ]
  },
  {
   "cell_type": "markdown",
   "id": "c0fe94c0",
   "metadata": {},
   "source": [
    "## Step 7: Insights & Reporting\n",
    "- India had the highest total number of cases.\n",
    "- Kenya had a slower vaccine rollout compared to the USA and India.\n",
    "- Death rates differed significantly across countries."
   ]
  }
 ],
 "metadata": {},
 "nbformat": 4,
 "nbformat_minor": 5
}